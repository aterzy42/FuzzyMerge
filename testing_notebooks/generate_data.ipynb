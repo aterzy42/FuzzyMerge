{
 "cells": [
  {
   "cell_type": "code",
   "execution_count": 2,
   "id": "a043e763-cd24-40a9-8a29-45917b0b3d16",
   "metadata": {},
   "outputs": [
    {
     "name": "stdout",
     "output_type": "stream",
     "text": [
      "✅ Excel dashboard created successfully.\n"
     ]
    }
   ],
   "source": [
    "import pandas as pd\n",
    "import os\n",
    "from pathlib import Path\n",
    "\n",
    "# === PART 1: Read and consolidate data ===\n",
    "input_folder = Path(\"input_files\")\n",
    "output_file = Path(\"output/smart_dashboard.xlsx\")\n",
    "output_file.parent.mkdir(exist_ok=True)\n",
    "\n",
    "all_data = []\n",
    "\n",
    "for file in input_folder.glob(\"*.xlsx\"):\n",
    "    try:\n",
    "        df = pd.read_excel(file, sheet_name=\"Sales\", engine='openpyxl')\n",
    "        all_data.append(df)\n",
    "    except Exception as e:\n",
    "        print(f\"❌ Skipping {file.name}: {e}\")\n",
    "\n",
    "data = pd.concat(all_data, ignore_index=True)\n",
    "data['Date'] = pd.to_datetime(data['Date'])\n",
    "data['Month'] = data['Date'].dt.to_period('M').astype(str)\n",
    "\n",
    "# === PART 2: Generate KPIs ===\n",
    "summary = (\n",
    "    data.groupby('Month').agg(\n",
    "        Total_Revenue=('Revenue', 'sum'),\n",
    "        Total_Orders=('Revenue', 'count'),\n",
    "        Avg_Order_Value=('Revenue', 'mean'),\n",
    "        Top_Product=('Product', lambda x: x.value_counts().idxmax()),\n",
    "        Top_Branch=('Branch', lambda x: x.value_counts().idxmax())\n",
    "    ).reset_index()\n",
    ")\n",
    "\n",
    "# === PART 3: Pivot-like summary ===\n",
    "pivot_table = pd.pivot_table(\n",
    "    data,\n",
    "    index='Month',\n",
    "    columns='Branch',\n",
    "    values='Revenue',\n",
    "    aggfunc='sum',\n",
    "    fill_value=0\n",
    ")\n",
    "\n",
    "# === PART 4: Export to Excel ===\n",
    "with pd.ExcelWriter(output_file, engine='xlsxwriter') as writer:\n",
    "    data.to_excel(writer, sheet_name=\"Raw_Data\", index=False)\n",
    "    summary.to_excel(writer, sheet_name=\"KPI_Summary\", index=False)\n",
    "    pivot_table.to_excel(writer, sheet_name=\"Pivot_Like_Summary\")\n",
    "\n",
    "    # Chart setup\n",
    "    workbook = writer.book\n",
    "    worksheet = writer.sheets['KPI_Summary']\n",
    "\n",
    "    chart = workbook.add_chart({'type': 'line'})\n",
    "    chart.add_series({\n",
    "        'name': 'Total Revenue',\n",
    "        'categories': ['KPI_Summary', 1, 0, len(summary), 0],\n",
    "        'values':     ['KPI_Summary', 1, 1, len(summary), 1],\n",
    "    })\n",
    "    chart.set_title({'name': 'Monthly Revenue'})\n",
    "    chart.set_y_axis({'name': 'Revenue'})\n",
    "    worksheet.insert_chart('H2', chart)\n",
    "\n",
    "print(\"✅ Excel dashboard created successfully.\")\n"
   ]
  },
  {
   "cell_type": "code",
   "execution_count": null,
   "id": "7f09edc4-7f4f-4049-a80f-0aeb2b0d3ba7",
   "metadata": {},
   "outputs": [],
   "source": []
  }
 ],
 "metadata": {
  "kernelspec": {
   "display_name": "Python 3 (ipykernel)",
   "language": "python",
   "name": "python3"
  },
  "language_info": {
   "codemirror_mode": {
    "name": "ipython",
    "version": 3
   },
   "file_extension": ".py",
   "mimetype": "text/x-python",
   "name": "python",
   "nbconvert_exporter": "python",
   "pygments_lexer": "ipython3",
   "version": "3.9.23"
  }
 },
 "nbformat": 4,
 "nbformat_minor": 5
}
